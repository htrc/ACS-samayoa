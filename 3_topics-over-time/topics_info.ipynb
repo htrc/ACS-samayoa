{
 "cells": [
  {
   "cell_type": "code",
   "execution_count": null,
   "id": "7ee7060c",
   "metadata": {},
   "outputs": [],
   "source": [
    "# This notebook uses the topic model built in a previous step to extract the top 20 terms\n",
    "# in each topic, and also extract the top 1000 and bottom 100 documents most (and least)\n",
    "# representative in each topic, with metadata added to more easily identify the volumes\n",
    "# referenced"
   ]
  },
  {
   "cell_type": "code",
   "execution_count": 2,
   "id": "edc6e67e",
   "metadata": {},
   "outputs": [],
   "source": [
    "%config Completer.use_jedi = False"
   ]
  },
  {
   "cell_type": "code",
   "execution_count": 3,
   "id": "ea7ac04f",
   "metadata": {},
   "outputs": [],
   "source": [
    "from pyspark.sql import SparkSession"
   ]
  },
  {
   "cell_type": "code",
   "execution_count": 4,
   "id": "72c8d669",
   "metadata": {},
   "outputs": [],
   "source": [
    "from pyspark.ml.feature import CountVectorizerModel\n",
    "from pyspark.ml.clustering import LocalLDAModel"
   ]
  },
  {
   "cell_type": "code",
   "execution_count": 5,
   "id": "fafab19a",
   "metadata": {},
   "outputs": [],
   "source": [
    "from pyspark.sql.functions import col, udf, expr, arrays_zip, concat_ws, asc, desc, size\n",
    "from pyspark.sql.types import ArrayType, StringType, FloatType"
   ]
  },
  {
   "cell_type": "code",
   "execution_count": 6,
   "id": "f509cd0f",
   "metadata": {},
   "outputs": [],
   "source": [
    "import numpy as np\n",
    "import pandas as pd"
   ]
  },
  {
   "cell_type": "code",
   "execution_count": 7,
   "id": "3aa9d00d",
   "metadata": {},
   "outputs": [],
   "source": [
    "import os\n",
    "os.makedirs('out', exist_ok=True)"
   ]
  },
  {
   "cell_type": "code",
   "execution_count": 8,
   "id": "dcb55c18",
   "metadata": {},
   "outputs": [],
   "source": [
    "spark = SparkSession.builder \\\n",
    "    .config(\"spark.executor.memory\", \"128G\") \\\n",
    "    .config(\"spark.driver.memory\", \"128G\") \\\n",
    "    .config(\"spark.serializer\", \"org.apache.spark.serializer.KryoSerializer\") \\\n",
    "    .config(\"spark.driver.maxResultSize\", \"0\") \\\n",
    "    .config(\"spark.kryoserializer.buffer.max\", \"512m\") \\\n",
    "    .config(\"spark.local.dir\", \"/htrc/temp\") \\\n",
    "    .master(\"local[*]\") \\\n",
    "    .getOrCreate()"
   ]
  },
  {
   "cell_type": "code",
   "execution_count": 9,
   "id": "a1dee458",
   "metadata": {},
   "outputs": [
    {
     "data": {
      "text/plain": [
       "LocalLDAModel: uid=LDA_5fcbf393faae, k=20, numFeatures=262144"
      ]
     },
     "execution_count": 9,
     "metadata": {},
     "output_type": "execute_result"
    }
   ],
   "source": [
    "topic_model = LocalLDAModel.load('topicmodel')\n",
    "topic_model"
   ]
  },
  {
   "cell_type": "code",
   "execution_count": 10,
   "id": "df6a6616",
   "metadata": {},
   "outputs": [
    {
     "data": {
      "text/plain": [
       "20"
      ]
     },
     "execution_count": 10,
     "metadata": {},
     "output_type": "execute_result"
    }
   ],
   "source": [
    "topic_model.getK()"
   ]
  },
  {
   "cell_type": "code",
   "execution_count": 11,
   "id": "33cfab77",
   "metadata": {},
   "outputs": [
    {
     "data": {
      "text/plain": [
       "CountVectorizerModel: uid=CountVectorizer_5c4241403ad4, vocabularySize=262144"
      ]
     },
     "execution_count": 11,
     "metadata": {},
     "output_type": "execute_result"
    }
   ],
   "source": [
    "vocab_model = CountVectorizerModel.load('vocab')\n",
    "vocab_model"
   ]
  },
  {
   "cell_type": "code",
   "execution_count": 12,
   "id": "eaa1f3d2",
   "metadata": {},
   "outputs": [],
   "source": [
    "vocab = vocab_model.vocabulary"
   ]
  },
  {
   "cell_type": "code",
   "execution_count": 13,
   "id": "274739f6",
   "metadata": {},
   "outputs": [
    {
     "data": {
      "text/plain": [
       "DataFrame[topic: int, termIndices: array<int>, termWeights: array<double>]"
      ]
     },
     "execution_count": 13,
     "metadata": {},
     "output_type": "execute_result"
    }
   ],
   "source": [
    "topics = topic_model.describeTopics(maxTermsPerTopic=20)\n",
    "topics"
   ]
  },
  {
   "cell_type": "code",
   "execution_count": 14,
   "id": "74bc6739",
   "metadata": {},
   "outputs": [],
   "source": [
    "index_map_udf = udf(lambda arr: [vocab[i] for i in arr], ArrayType(StringType()))"
   ]
  },
  {
   "cell_type": "code",
   "execution_count": 15,
   "id": "3463753d",
   "metadata": {},
   "outputs": [
    {
     "data": {
      "text/plain": [
       "DataFrame[topic: int, topic_terms: string]"
      ]
     },
     "execution_count": 15,
     "metadata": {},
     "output_type": "execute_result"
    }
   ],
   "source": [
    "topics_with_terms = topics.withColumn('topic_terms', index_map_udf(topics.termIndices)).drop('termIndices', 'termWeights').withColumn('topic_terms', concat_ws(', ', col('topic_terms')))\n",
    "topics_with_terms"
   ]
  },
  {
   "cell_type": "code",
   "execution_count": 16,
   "id": "104843b5",
   "metadata": {},
   "outputs": [
    {
     "name": "stdout",
     "output_type": "stream",
     "text": [
      "+-----+-------------------------------------------------------------------------------------------------------------------------------------------------------------------------------------------------------+\n",
      "|topic|topic_terms                                                                                                                                                                                            |\n",
      "+-----+-------------------------------------------------------------------------------------------------------------------------------------------------------------------------------------------------------+\n",
      "|0    |united__states, cfr, national, housing, defense, designate, service, con, transportation, alien, corporation, loan, labor, commerce, appropriation, military, federal__fund, relative, education, bank |\n",
      "|1    |alaska, river, map, washington, california, united__states, university, oil, issn, lake, ice, basin, russi, new__york, island, sea, county, geology, usa, florida                                      |\n",
      "|2    |income, work, age, race, family, white, census, 1989, housing__unit, female, household, fish, labor__force, occupy, hispanic, tract, county, householder, worker, male                                 |\n",
      "|3    |music, acid, sci, 1965, soc, 1966, russi, 1960, 1959, 1964, rus, 1963, inst, 1961, soil, agr, 1962, 1967, 1958, sept                                                                                   |\n",
      "|4    |int, reg, cls, corp, corporation, appl, ltd, 1994, new__york, mine, class, 1993, 1995, 2002, commerce, mining, 2001, mark, first__use, canc                                                            |\n",
      "|5    |county, new__york, church, pennsylvania, washington, community, black, american, virginia, william, street, james, township, work, society, school, chinese, chicago, university, park                 |\n",
      "|6    |army, ship, vessel, mile, port, foot, carrier, service, shipment, mexico, united__states, aircraft, station, island, river, near, ton, pound, mexican, route                                           |\n",
      "|7    |disabxxx, service, work, payment, veteran, age, child, income, social__security, fiscal__year, employer, compensation, insurance, care, education, family, health, job, worker, eligible               |\n",
      "|8    |family, language, india, japan, english, republic, american, china, university, soviet, france, ussr, italy, literature, korea, germany, geog, french, pakistan, subd                                  |\n",
      "|9    |united__states, stat, sec, amendment, authority, rule, paragraph, pursuant, service, officer, notice, president, government, institution, subsection, hearing, submit, except, refer, approve          |\n",
      "|10   |alloy, metal, steel, 2003, hispanic, mrs, nickel, comparison, fuel, industry, iron, definition, aluminum, price, building, sugar, blacks, electric, owner, corrosion                                   |\n",
      "|11   |people, government, president, united__states, problem, work, war, force, military, political, world, nation, talk, ask, senator, help, party, situation, thank, try                                   |\n",
      "|12   |new__york, cit, marc, von, 1968, 1970, london, isbn, 1969, 1971, 1967, 1972, de__la, 1966, history, paris, die, 1965, university, dlc                                                                  |\n",
      "|13   |health, service, united__states, national, washington, drug, alternative, public__health, facility, medical, access, community, item, library, work, hospital, environmental, identify, contact, safety|\n",
      "|14   |united__states, government, bank, import, price, billion, industry, german, foreign, soviet, investment, russi, germany, force, china, economy, exchange, russia, dollar, loan                         |\n",
      "|15   |measurement, nasa, temperature, flow, problem, radiation, russi, electron, theory, power, reactor, experiment, plasma, technique, wave, particle, pressure, satellite, technology, phase               |\n",
      "|16   |soil, food, crop, forest, seed, parts, growth, specie, wheat, agriculture, yield, protein, tree, fruit, disease, feed, farm, agricultural, grow, milk                                                  |\n",
      "|17   |china, people, work, chinese, party, worker, beijing, woman, hong__kong, reform, government, enterprise, province, gmt, comrade, school, job, taiwan, provincial, labor                                |\n",
      "|18   |med, cell, patient, abstr, human, disease, 1997, rat, clin, 1996, 1998, cancer, 1999, 1995, comment, 1994, ger, 1993, 1990, 1991                                                                       |\n",
      "|19   |education, student, school, child, teacher, college, university, educational, evaluation, teaching, learning, science, community, language, high__school, health, social, parent, family, reading      |\n",
      "+-----+-------------------------------------------------------------------------------------------------------------------------------------------------------------------------------------------------------+\n",
      "\n"
     ]
    }
   ],
   "source": [
    "topics_with_terms.show(truncate=False)"
   ]
  },
  {
   "cell_type": "code",
   "execution_count": 15,
   "id": "17bfe7f4",
   "metadata": {},
   "outputs": [],
   "source": [
    "topics_with_terms.toPandas().to_csv('out/topics_top20.csv', index=False)"
   ]
  },
  {
   "cell_type": "code",
   "execution_count": 18,
   "id": "16a9c03f",
   "metadata": {},
   "outputs": [
    {
     "data": {
      "text/plain": [
       "DataFrame[htid: string, title: string, author: string, rights_date_used: string, access: string, rights: string]"
      ]
     },
     "execution_count": 18,
     "metadata": {},
     "output_type": "execute_result"
    }
   ],
   "source": [
    "hathifiles = spark.read.csv('/htrc/shared/hathifiles/hathi_full_20210301.txt', sep='\\t', header=True) \\\n",
    "    .select(col('htid'), col('title'), col('author'), col('rights_date_used'), col('access'), col('rights'))\n",
    "hathifiles"
   ]
  },
  {
   "cell_type": "code",
   "execution_count": 19,
   "id": "40c6af42",
   "metadata": {},
   "outputs": [],
   "source": [
    "to_array_udf = udf(lambda v: v.toArray().tolist(), ArrayType(FloatType()))"
   ]
  },
  {
   "cell_type": "code",
   "execution_count": 20,
   "id": "fb95e5c6",
   "metadata": {},
   "outputs": [
    {
     "name": "stdout",
     "output_type": "stream",
     "text": [
      "+------------+--------+--------------------+--------------------+--------------------+----------------+------+------+\n",
      "|        htid|     seq|   topicDistribution|               title|              author|rights_date_used|access|rights|\n",
      "+------------+--------+--------------------+--------------------+--------------------+----------------+------+------+\n",
      "|chi.14822710|00000197|[1.7056777E-4, 1....|The virus cancer ...|National Cancer I...|            1973| allow|    pd|\n",
      "|chi.14822710|00000360|[1.8432748E-4, 1....|The virus cancer ...|National Cancer I...|            1973| allow|    pd|\n",
      "|chi.14822710|00000236|[1.3893539E-4, 1....|The virus cancer ...|National Cancer I...|            1973| allow|    pd|\n",
      "|chi.14822710|00000075|[3.7791772E-4, 3....|The virus cancer ...|National Cancer I...|            1973| allow|    pd|\n",
      "|chi.14822710|00000050|[1.9619796E-4, 1....|The virus cancer ...|National Cancer I...|            1973| allow|    pd|\n",
      "|chi.14822710|00000053|[1.513599E-4, 1.4...|The virus cancer ...|National Cancer I...|            1973| allow|    pd|\n",
      "|chi.14822710|00000148|[2.2631897E-4, 2....|The virus cancer ...|National Cancer I...|            1973| allow|    pd|\n",
      "|chi.14822710|00000191|[1.9370312E-4, 1....|The virus cancer ...|National Cancer I...|            1973| allow|    pd|\n",
      "|chi.14822710|00000150|[1.9875792E-4, 1....|The virus cancer ...|National Cancer I...|            1973| allow|    pd|\n",
      "|chi.14822710|00000225|[1.4745288E-4, 1....|The virus cancer ...|National Cancer I...|            1973| allow|    pd|\n",
      "|chi.14822710|00000096|[4.971432E-4, 4.9...|The virus cancer ...|National Cancer I...|            1973| allow|    pd|\n",
      "|chi.14822710|00000093|[4.234401E-4, 4.1...|The virus cancer ...|National Cancer I...|            1973| allow|    pd|\n",
      "|chi.14822710|00000256|[1.7381145E-4, 1....|The virus cancer ...|National Cancer I...|            1973| allow|    pd|\n",
      "|chi.14822710|00000165|[1.7787052E-4, 1....|The virus cancer ...|National Cancer I...|            1973| allow|    pd|\n",
      "|chi.14822710|00000270|[1.4374248E-4, 1....|The virus cancer ...|National Cancer I...|            1973| allow|    pd|\n",
      "|chi.14822710|00000120|[0.0013471257, 0....|The virus cancer ...|National Cancer I...|            1973| allow|    pd|\n",
      "|chi.14822710|00000207|[2.0874469E-4, 2....|The virus cancer ...|National Cancer I...|            1973| allow|    pd|\n",
      "|chi.14822710|00000030|[1.4329176E-4, 1....|The virus cancer ...|National Cancer I...|            1973| allow|    pd|\n",
      "|chi.14822710|00000186|[1.5495243E-4, 1....|The virus cancer ...|National Cancer I...|            1973| allow|    pd|\n",
      "|chi.14822710|00000064|[1.8068355E-4, 1....|The virus cancer ...|National Cancer I...|            1973| allow|    pd|\n",
      "+------------+--------+--------------------+--------------------+--------------------+----------------+------+------+\n",
      "only showing top 20 rows\n",
      "\n"
     ]
    }
   ],
   "source": [
    "result = spark.read.parquet('result') \\\n",
    "    .drop('tokens') \\\n",
    "    .withColumn('topicDistribution', to_array_udf(col('topicDistribution'))) \\\n",
    "    .withColumnRenamed('_c1', 'htid') \\\n",
    "    .withColumnRenamed('_c2', 'seq') \\\n",
    "    .join(hathifiles, 'htid', 'left')\n",
    "result.show()"
   ]
  },
  {
   "cell_type": "code",
   "execution_count": 26,
   "id": "dd6a9487",
   "metadata": {},
   "outputs": [
    {
     "name": "stdout",
     "output_type": "stream",
     "text": [
      "+-------------------+--------+--------------------+--------------------+--------------------+----------------+------+------+\n",
      "|               htid|     seq|   topicDistribution|               title|              author|rights_date_used|access|rights|\n",
      "+-------------------+--------+--------------------+--------------------+--------------------+----------------+------+------+\n",
      "|       uc1.b5131420|00000046|[2.457953E-4, 2.4...|Endangered Specie...|United States. Co...|            9999| allow|    pd|\n",
      "|       uc1.b5131420|00000073|[1.5442881E-4, 0....|Endangered Specie...|United States. Co...|            9999| allow|    pd|\n",
      "|       uc1.b5131420|00000069|[1.5927281E-4, 0....|Endangered Specie...|United States. Co...|            9999| allow|    pd|\n",
      "|       uc1.b5131420|00000392|[1.7120679E-4, 1....|Endangered Specie...|United States. Co...|            9999| allow|    pd|\n",
      "|       uc1.b5131420|00000436|[2.1873614E-4, 2....|Endangered Specie...|United States. Co...|            9999| allow|    pd|\n",
      "|       uc1.b5131420|00000463|[1.6267458E-4, 1....|Endangered Specie...|United States. Co...|            9999| allow|    pd|\n",
      "|       uc1.b5131420|00000449|[2.5976702E-4, 2....|Endangered Specie...|United States. Co...|            9999| allow|    pd|\n",
      "|       uc1.b5131420|00000394|[1.9535924E-4, 0....|Endangered Specie...|United States. Co...|            9999| allow|    pd|\n",
      "|       uc1.b5131420|00000186|[2.689394E-4, 2.6...|Endangered Specie...|United States. Co...|            9999| allow|    pd|\n",
      "|       uc1.b5131420|00000294|[0.1658483, 2.123...|Endangered Specie...|United States. Co...|            9999| allow|    pd|\n",
      "|       uc1.b5131420|00000464|[1.7185061E-4, 0....|Endangered Specie...|United States. Co...|            9999| allow|    pd|\n",
      "|       uc1.b5131420|00000399|[1.4987074E-4, 1....|Endangered Specie...|United States. Co...|            9999| allow|    pd|\n",
      "|       uc1.b5131420|00000067|[2.0317627E-4, 2....|Endangered Specie...|United States. Co...|            9999| allow|    pd|\n",
      "|       uc1.b5131420|00000462|[1.8068355E-4, 1....|Endangered Specie...|United States. Co...|            9999| allow|    pd|\n",
      "|       uc1.b5131420|00000391|[1.9962616E-4, 1....|Endangered Specie...|United States. Co...|            9999| allow|    pd|\n",
      "|       uc1.b5131420|00000328|[2.3935828E-4, 2....|Endangered Specie...|United States. Co...|            9999| allow|    pd|\n",
      "|pur1.32754065149209|00000315|[0.015422373, 2.7...|Indian Gaming Reg...|United States. Co...|            9999| allow|    pd|\n",
      "|pur1.32754065149209|00000544|[4.5734126E-4, 4....|Indian Gaming Reg...|United States. Co...|            9999| allow|    pd|\n",
      "|pur1.32754065149209|00000317|[1.6209757E-4, 1....|Indian Gaming Reg...|United States. Co...|            9999| allow|    pd|\n",
      "|pur1.32754065149209|00000442|[0.19768842, 3.96...|Indian Gaming Reg...|United States. Co...|            9999| allow|    pd|\n",
      "+-------------------+--------+--------------------+--------------------+--------------------+----------------+------+------+\n",
      "only showing top 20 rows\n",
      "\n"
     ]
    }
   ],
   "source": [
    "result.filter(col('rights_date_used') == \"9999\").show()"
   ]
  },
  {
   "cell_type": "code",
   "execution_count": 23,
   "id": "8fa89f76",
   "metadata": {},
   "outputs": [
    {
     "name": "stdout",
     "output_type": "stream",
     "text": [
      "+----------------+------+\n",
      "|rights_date_used|count |\n",
      "+----------------+------+\n",
      "|9999            |11025 |\n",
      "|2025            |4     |\n",
      "|2018            |227   |\n",
      "|2017            |869   |\n",
      "|2016            |1253  |\n",
      "|2015            |2983  |\n",
      "|2014            |12604 |\n",
      "|2013            |35778 |\n",
      "|2012            |53815 |\n",
      "|2011            |77435 |\n",
      "|2010            |109714|\n",
      "|2009            |151913|\n",
      "|2008            |137304|\n",
      "|2007            |179568|\n",
      "|2006            |169179|\n",
      "|2005            |210332|\n",
      "|2004            |231914|\n",
      "|2003            |233355|\n",
      "|2002            |242176|\n",
      "|2001            |248203|\n",
      "+----------------+------+\n",
      "only showing top 20 rows\n",
      "\n"
     ]
    }
   ],
   "source": [
    "result.groupBy('rights_date_used').count().sort(col('rights_date_used'), ascending=False).show(truncate=False)"
   ]
  },
  {
   "cell_type": "code",
   "execution_count": 19,
   "id": "e49be59d",
   "metadata": {},
   "outputs": [],
   "source": [
    "for t in range(0, topic_model.getK()):\n",
    "    result = result.withColumn(f't{t}', col('topicDistribution').getItem(t))"
   ]
  },
  {
   "cell_type": "code",
   "execution_count": 20,
   "id": "5cd6f88c",
   "metadata": {},
   "outputs": [],
   "source": [
    "result = result.drop('topicDistribution').toPandas()"
   ]
  },
  {
   "cell_type": "code",
   "execution_count": 21,
   "id": "18c9c2db",
   "metadata": {},
   "outputs": [
    {
     "name": "stdout",
     "output_type": "stream",
     "text": [
      "Working on topic 0...\n",
      "Working on topic 1...\n",
      "Working on topic 2...\n",
      "Working on topic 3...\n",
      "Working on topic 4...\n",
      "Working on topic 5...\n",
      "Working on topic 6...\n",
      "Working on topic 7...\n",
      "Working on topic 8...\n",
      "Working on topic 9...\n",
      "Working on topic 10...\n",
      "Working on topic 11...\n",
      "Working on topic 12...\n",
      "Working on topic 13...\n",
      "Working on topic 14...\n",
      "Working on topic 15...\n",
      "Working on topic 16...\n",
      "Working on topic 17...\n",
      "Working on topic 18...\n",
      "Working on topic 19...\n"
     ]
    }
   ],
   "source": [
    "for t in range(0, topic_model.getK()):\n",
    "    print(f'Working on topic {t}...')\n",
    "    top_docs_per_topic = result.sort_values(by=f't{t}', ascending=False)[['htid', 'seq', f't{t}', 'rights_date_used', 'title', 'author', 'access', 'rights']]\n",
    "    docs_slice = pd.concat([top_docs_per_topic.head(1000), top_docs_per_topic.tail(100)])\n",
    "    docs_slice.to_csv(f'out/t{t}.csv', index=False)"
   ]
  },
  {
   "cell_type": "code",
   "execution_count": null,
   "id": "5673ceab",
   "metadata": {},
   "outputs": [],
   "source": []
  }
 ],
 "metadata": {
  "kernelspec": {
   "display_name": "Python 3",
   "language": "python",
   "name": "python3"
  },
  "language_info": {
   "codemirror_mode": {
    "name": "ipython",
    "version": 3
   },
   "file_extension": ".py",
   "mimetype": "text/x-python",
   "name": "python",
   "nbconvert_exporter": "python",
   "pygments_lexer": "ipython3",
   "version": "3.9.1"
  }
 },
 "nbformat": 4,
 "nbformat_minor": 5
}
